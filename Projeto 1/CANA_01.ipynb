{
  "nbformat": 4,
  "nbformat_minor": 0,
  "metadata": {
    "colab": {
      "name": "CANA-01.ipynb",
      "provenance": [],
      "authorship_tag": "ABX9TyOlTad+s5WCqzOKGDU6J1wE",
      "include_colab_link": true
    },
    "kernelspec": {
      "name": "python3",
      "display_name": "Python 3"
    }
  },
  "cells": [
    {
      "cell_type": "markdown",
      "metadata": {
        "id": "view-in-github",
        "colab_type": "text"
      },
      "source": [
        "<a href=\"https://colab.research.google.com/github/eduardodut/projetos-algoritmos/blob/master/Projeto%201/CANA_01.ipynb\" target=\"_parent\"><img src=\"https://colab.research.google.com/assets/colab-badge.svg\" alt=\"Open In Colab\"/></a>"
      ]
    },
    {
      "cell_type": "markdown",
      "metadata": {
        "id": "ThnJ5g-c-92r",
        "colab_type": "text"
      },
      "source": [
        "<b>a)</b> Realizar a leitura do arquivo de entrada em estruturas de dados apropriadas, buscando eficiência não só\n",
        "no uso de memória, mas também no tempo de processamento dos algoritmos que farão uso destes dados.\n",
        "(1,0 ponto)\n"
      ]
    },
    {
      "cell_type": "code",
      "metadata": {
        "id": "NBpjL1wz5YcF",
        "colab_type": "code",
        "colab": {
          "base_uri": "https://localhost:8080/",
          "height": 68
        },
        "outputId": "7bb77c7e-f1e2-4bfc-c672-80a94a8f0dd7"
      },
      "source": [
        "#download do arquivo entrada.txt\n",
        "!curl --remote-name \\\n",
        "    -H 'Accept: application/vnd.github.v3.raw' \\\n",
        "    --location https://raw.githubusercontent.com/eduardodut/projetos-algoritmos/master/Projeto%201/Dados/entrada.txt"
      ],
      "execution_count": 4,
      "outputs": [
        {
          "output_type": "stream",
          "text": [
            "  % Total    % Received % Xferd  Average Speed   Time    Time     Time  Current\n",
            "                                 Dload  Upload   Total   Spent    Left  Speed\n",
            "\r  0     0    0     0    0     0      0      0 --:--:-- --:--:-- --:--:--     0\r100 10.3M  100 10.3M    0     0  23.7M      0 --:--:-- --:--:-- --:--:-- 23.7M\n"
          ],
          "name": "stdout"
        }
      ]
    },
    {
      "cell_type": "code",
      "metadata": {
        "id": "2F3wBMmPDLe-",
        "colab_type": "code",
        "colab": {
          "base_uri": "https://localhost:8080/",
          "height": 34
        },
        "outputId": "994ccb9e-f3ad-4a13-8755-af1acbb26391"
      },
      "source": [
        "#leitura do arquivo e inicialização das variáveis\n",
        "import numpy as np\n",
        "fname = '/content/entrada.txt'\n",
        "dados = []\n",
        "primeira_linha = []\n",
        "cnt = 0 #armazena o número de vezes que uma linha do arquivo será lida\n",
        "with open(fname, 'r') as file:\n",
        "    for line in file:\n",
        "      cnt = cnt + 1\n",
        "      #separa a primeira linha do arquivo em uma estrutura separada\n",
        "      if cnt == 1:\n",
        "        primeira_linha.append(line.split())\n",
        "        print(line.split())\n",
        "      #armazena todo o restante das linhas do arquivo em uma estrutura própria\n",
        "      else:\n",
        "        dados.append(line.split())\n",
        "    \n",
        "    file.close() #apenas por boa prática\n",
        "\n",
        "#formatação dos dados lidos no arquivo em estruturas de arrays. São utilizados arrays da biblioteca Numpy.\n",
        "primeira_linha = np.asarray(primeira_linha[0], dtype = float)\n",
        "dados = np.asarray(dados, dtype = float)"
      ],
      "execution_count": 65,
      "outputs": [
        {
          "output_type": "stream",
          "text": [
            "['120', '100', '100.0']\n"
          ],
          "name": "stdout"
        }
      ]
    },
    {
      "cell_type": "code",
      "metadata": {
        "id": "HpsEUq7GUqgB",
        "colab_type": "code",
        "colab": {
          "base_uri": "https://localhost:8080/",
          "height": 85
        },
        "outputId": "508dd840-7bad-414c-fa17-d05a8d6723b2"
      },
      "source": [
        "#Organização das variáveis e impressão de seus valores\n",
        "\n",
        "N = primeira_linha[0].astype(\"int\") #NÚMERO DE MESES\n",
        "print(\"Número de meses compreendidos pelo arquivo: \", N)\n",
        "M = primeira_linha[1].astype(\"int\") #NÚMERO DE FORNECEDORES\n",
        "print(\"Número de fornecedores inclusos no arquivo: \", M)\n",
        "T = primeira_linha[2] #TAXA PARA MUDANCA DE FORNECEDOR\n",
        "print(\"Taxa para mudança de fornecedor: \",T)\n",
        "n_linhas = dados.shape[0] #número de linhas que correspondem aos dados de contratos\n",
        "print(\"Número de dados de contratos: \", n_linhas)"
      ],
      "execution_count": 53,
      "outputs": [
        {
          "output_type": "stream",
          "text": [
            "Número de meses compreendidos pelo arquivo:  120\n",
            "Número de fornecedores inclusos no arquivo:  100\n",
            "Taxa para mudança de fornecedor:  100.0\n",
            "Número de dados de contratos:  726000\n"
          ],
          "name": "stdout"
        }
      ]
    },
    {
      "cell_type": "code",
      "metadata": {
        "id": "teuxVgqtO_Oz",
        "colab_type": "code",
        "colab": {}
      },
      "source": [
        "import pandas as pd\n",
        "\n",
        "df = pd.DataFrame(dados, columns = ['fornecedor','mes_inicial', 'mes_final', 'valor'])\n"
      ],
      "execution_count": 0,
      "outputs": []
    },
    {
      "cell_type": "code",
      "metadata": {
        "id": "eD8iegHrRqZV",
        "colab_type": "code",
        "colab": {}
      },
      "source": [
        "dados_fornecedor_1 = df.query(''.join(['fornecedor == 1.0'])).sort_values(['mes_inicial','mes_final'])"
      ],
      "execution_count": 0,
      "outputs": []
    },
    {
      "cell_type": "code",
      "metadata": {
        "id": "axbimLHHLl0k",
        "colab_type": "code",
        "colab": {
          "base_uri": "https://localhost:8080/",
          "height": 272
        },
        "outputId": "65e6beea-4cea-42db-cd59-5a1db893cada"
      },
      "source": [
        "dados_agrupados = df.groupby(['fornecedor','mes_inicial']).count()[['mes_final']]\n",
        "\n",
        "print(dados_agrupados)\n",
        "\n"
      ],
      "execution_count": 20,
      "outputs": [
        {
          "output_type": "stream",
          "text": [
            "                        mes_final\n",
            "fornecedor mes_inicial           \n",
            "1.0        1.0                120\n",
            "           2.0                119\n",
            "           3.0                118\n",
            "           4.0                117\n",
            "           5.0                116\n",
            "...                           ...\n",
            "100.0      116.0                5\n",
            "           117.0                4\n",
            "           118.0                3\n",
            "           119.0                2\n",
            "           120.0                1\n",
            "\n",
            "[12000 rows x 1 columns]\n"
          ],
          "name": "stdout"
        }
      ]
    },
    {
      "cell_type": "code",
      "metadata": {
        "id": "Pp3nYoO6QOU-",
        "colab_type": "code",
        "colab": {}
      },
      "source": [
        "for i in df.fornecedor.unique():\n",
        "  print(i,\" \",df.query(''.join(['fornecedor == ',str(i)])).shape[0])"
      ],
      "execution_count": 0,
      "outputs": []
    },
    {
      "cell_type": "code",
      "metadata": {
        "id": "tuek23atOlE7",
        "colab_type": "code",
        "colab": {}
      },
      "source": [
        ""
      ],
      "execution_count": 0,
      "outputs": []
    },
    {
      "cell_type": "markdown",
      "metadata": {
        "id": "jMgLdCaI_BoS",
        "colab_type": "text"
      },
      "source": [
        "b) Apresentar a complexidade das estruturas utilizadas para armazenar os dados de entrada, fazendo uso\n",
        "de notação assintótica e tendo como parâmetros somente a quantidade n de meses e a quantidade m de\n",
        "fornecedores. (1,0 ponto)\n"
      ]
    },
    {
      "cell_type": "code",
      "metadata": {
        "id": "gOjbQI-BN9UC",
        "colab_type": "code",
        "colab": {
          "base_uri": "https://localhost:8080/",
          "height": 68
        },
        "outputId": "3c93bef4-4725-4770-b30b-bda8a7d40bda"
      },
      "source": [
        "def funcao_linhas_arquivo(N, M):\n",
        "  \"\"\"Calcula o número de linhas do arquivo em função do número de meses N e do número de fornecedores M\n",
        "\n",
        "    Parâmetros:\n",
        "    N (int): Número de meses compreendidos no arquivo\n",
        "    M (int): Número de fornecedores com oferta de contratos\n",
        "    \n",
        "    Retorna:\n",
        "    int: ((1+N)*N*M)/2+1, onde o \"+ 1\" corresponde à linha inicial do arquivo\n",
        "\n",
        "   \"\"\"\n",
        "  return ((1+N)*N*M)/2+1\n",
        "\n",
        "print(\"Número de linhas do arquivo (calculado): \", funcao_linhas_arquivo(N, M))\n",
        "print(\"Número de linhas do arquivo (contado na leitura do arquivo): \", cnt)\n",
        "print(\"\\u03B8(funcao_linha_arquivo) = \\u03B8(M*N^2)\")\n",
        "\n"
      ],
      "execution_count": 64,
      "outputs": [
        {
          "output_type": "stream",
          "text": [
            "Número de linhas do arquivo (calculado):  726001.0\n",
            "Número de linhas do arquivo (contado na leitura do arquivo):  726001\n",
            "θ(funcao_linha_arquivo) = θ(M*N^2)\n"
          ],
          "name": "stdout"
        }
      ]
    },
    {
      "cell_type": "markdown",
      "metadata": {
        "id": "C0O56NY8_EXO",
        "colab_type": "text"
      },
      "source": [
        "c) Criar uma função eficiente que retorna o contrato individual, referente ao período completo de n meses,\n",
        "que possui o menor valor. (1,0 ponto)\n"
      ]
    },
    {
      "cell_type": "code",
      "metadata": {
        "id": "SDWD_IH-N9x-",
        "colab_type": "code",
        "colab": {}
      },
      "source": [
        ""
      ],
      "execution_count": 0,
      "outputs": []
    },
    {
      "cell_type": "markdown",
      "metadata": {
        "id": "cdcR-Pfl_JI1",
        "colab_type": "text"
      },
      "source": [
        "d) Apresentar a complexidade da função descrita no item anterior, fazendo uso de notação assintótica e\n",
        "tendo como parâmetros somente a quantidade n de meses e a quantidade m de fornecedores. (1,0 ponto)\n"
      ]
    },
    {
      "cell_type": "code",
      "metadata": {
        "id": "yXt8rWhsN-Tr",
        "colab_type": "code",
        "colab": {}
      },
      "source": [
        ""
      ],
      "execution_count": 0,
      "outputs": []
    },
    {
      "cell_type": "markdown",
      "metadata": {
        "id": "IEtO3GvW_K0L",
        "colab_type": "text"
      },
      "source": [
        "e) Criar uma função eficiente que retorna o contrato individual de menor valor do mercado, independente\n",
        "do período a que se refere. (1,0 ponto)\n"
      ]
    },
    {
      "cell_type": "code",
      "metadata": {
        "id": "dFWK2d4qN-wj",
        "colab_type": "code",
        "colab": {}
      },
      "source": [
        ""
      ],
      "execution_count": 0,
      "outputs": []
    },
    {
      "cell_type": "markdown",
      "metadata": {
        "id": "rBqKE4EH_Mep",
        "colab_type": "text"
      },
      "source": [
        "f) Apresentar a complexidade da função descrita no item anterior, fazendo uso de notação assintótica e\n",
        "tendo como parâmetros somente a quantidade n de meses e a quantidade m de fornecedores. (1,0 ponto)\n"
      ]
    },
    {
      "cell_type": "code",
      "metadata": {
        "id": "Xub20QAJN_Uz",
        "colab_type": "code",
        "colab": {}
      },
      "source": [
        ""
      ],
      "execution_count": 0,
      "outputs": []
    },
    {
      "cell_type": "markdown",
      "metadata": {
        "id": "IxY5xNSh_OOK",
        "colab_type": "text"
      },
      "source": [
        "g) Criar uma função eficiente que retorna o contrato individual, referente ao período completo de x meses\n",
        "(passado como parâmetro, x ≤ n), que possui o menor valor. (1,0 ponto)\n"
      ]
    },
    {
      "cell_type": "code",
      "metadata": {
        "id": "CBCNhtfIN_9E",
        "colab_type": "code",
        "colab": {}
      },
      "source": [
        ""
      ],
      "execution_count": 0,
      "outputs": []
    },
    {
      "cell_type": "markdown",
      "metadata": {
        "id": "cvMn2MgU_QJh",
        "colab_type": "text"
      },
      "source": [
        "h) Apresentar a complexidade da função descrita no item anterior, fazendo uso de notação assintótica e\n",
        "tendo como parâmetros somente a quantidade n de meses e a quantidade m de fornecedores. (1,0 ponto)\n"
      ]
    },
    {
      "cell_type": "code",
      "metadata": {
        "id": "NvB0F213OAZT",
        "colab_type": "code",
        "colab": {}
      },
      "source": [
        ""
      ],
      "execution_count": 0,
      "outputs": []
    },
    {
      "cell_type": "markdown",
      "metadata": {
        "id": "xjrEBdi0_SQY",
        "colab_type": "text"
      },
      "source": [
        "i) Criar um método que sugere quais contratos de energia devem ser contratados para os próximos n\n",
        "meses. (1,0 ponto)\n"
      ]
    },
    {
      "cell_type": "code",
      "metadata": {
        "id": "Wn2ueLleOBlJ",
        "colab_type": "code",
        "colab": {}
      },
      "source": [
        ""
      ],
      "execution_count": 0,
      "outputs": []
    },
    {
      "cell_type": "markdown",
      "metadata": {
        "id": "HQUewoqM_UFm",
        "colab_type": "text"
      },
      "source": [
        "j) Apresentar a complexidade da função descrita no item anterior, fazendo uso de notação assintótica e\n",
        "tendo como parâmetros somente a quantidade n de meses e a quantidade m de fornecedores. (1,0 ponto)"
      ]
    },
    {
      "cell_type": "code",
      "metadata": {
        "id": "-vxvbeO5OBKd",
        "colab_type": "code",
        "colab": {}
      },
      "source": [
        ""
      ],
      "execution_count": 0,
      "outputs": []
    },
    {
      "cell_type": "code",
      "metadata": {
        "id": "N_pUT-sW5NPI",
        "colab_type": "code",
        "colab": {
          "base_uri": "https://localhost:8080/",
          "height": 1000
        },
        "outputId": "d0d29694-cd75-43c5-9b62-b3e04aded936"
      },
      "source": [
        "# Módulo para debug\n",
        "from var_dump import var_dump\n",
        "\n",
        "from operator import itemgetter, attrgetter\n",
        "\n",
        "try:\n",
        "    arquivo = open(fname,'r')\n",
        "except FileNotFoundError:\n",
        "    print('Arquivo não encontrado.')\n",
        "\n",
        "# Função que valida o valor total do contrato\n",
        "# Item A do prejeto\n",
        "def valida_valor_contratos(dados, fornecedor, valor_total):\n",
        "\n",
        "    # Variáveis usadas para localização da regra\n",
        "    index = 0\n",
        "    index2 = 0\n",
        "    lista_contrato = []\n",
        "\n",
        "    # Cria lista de contrados\n",
        "    while (index < len(dados)):\n",
        "        while (fornecedor == int(dados[index][0]) and index2 < len(dados)):\n",
        "            lista_contrato.append(dados[index2])\n",
        "            index2 += 1\n",
        "        index += 1\n",
        "\n",
        "    # Localiza se há divergência(s) em alguns dos contrados e o apresenta de acordo com as regras do Item A\n",
        "    for l in lista_contrato:\n",
        "\n",
        "        # Informações dos contratos realizados\n",
        "        fornecedor_linha = int(l[0])\n",
        "        valor_total_linha = float(l[3])\n",
        "\n",
        "        if (fornecedor == fornecedor_linha and valor_total_linha > valor_total):\n",
        "            print('Foi encontrado divergência(s) de acordo com as informações passadas nos dados que impoêm um contrato.')\n",
        "            print('O contrato {con} tem obrigatoriamente valor menor ou igual aos valores dos outros contratos.\\n\\n' .format(con=l))\n",
        "\n",
        "# Função que valida o somatorio dos valores total do contrato\n",
        "# Item B do prejeto\n",
        "def valida_somatorio_valor_contratos(dados, dados_contrato_total_meses):\n",
        "\n",
        "    # Variáveis usadas para localização da regra\n",
        "    index = 0\n",
        "    lista_fornecedor = []\n",
        "    lista_valor_mes = []\n",
        "    valor_total_fornecedor = []\n",
        "\n",
        "    for l in dados:\n",
        "\n",
        "        # Informações dos contratos realizados\n",
        "        fornecedor_linha = int(l[0])\n",
        "        mes_inicial_linha = int(l[1])\n",
        "        mes_final_linha = int(l[2])\n",
        "        valor_total_linha = float(l[3])\n",
        "\n",
        "        # Localiza valor do contrato de uma mês todo\n",
        "        if (((mes_final_linha - mes_inicial_linha) == 0) or ((mes_final_linha - mes_inicial_linha) == 1)):\n",
        "            lista_valor_mes.append([fornecedor_linha, valor_total_linha])\n",
        "            lista_fornecedor.append(fornecedor_linha)\n",
        "\n",
        "    # Identifica quem são os fornecedores\n",
        "    lista_fornecedor = list(set(lista_fornecedor))\n",
        "\n",
        "    # Realiza somatório de todos os fornecedores em cada mês\n",
        "    while (index < len(lista_fornecedor)):\n",
        "\n",
        "        soma = 0\n",
        "        for v in lista_valor_mes:\n",
        "            if (lista_fornecedor[index] == v[0]):\n",
        "                soma = + soma + v[1]\n",
        "\n",
        "        valor_total_fornecedor.append([lista_fornecedor[index], soma])\n",
        "\n",
        "        index += 1\n",
        "\n",
        "    # Localiza se há divergência(s) em alguns dos contrados e o apresenta de acordo com as regras do Item B\n",
        "    for l in dados:\n",
        "\n",
        "        # Informações dos contratos realizados\n",
        "        fornecedor_linha = int(l[0])\n",
        "        mes_inicial_linha = int(l[1])\n",
        "        mes_final_linha = int(l[2])\n",
        "        valor_total_linha = float(l[3])\n",
        "\n",
        "        if (mes_inicial_linha == 1 and mes_final_linha == dados_contrato_total_meses):\n",
        "            for v in valor_total_fornecedor:\n",
        "                if (fornecedor_linha == v[0] and valor_total_linha > v[1]):\n",
        "                    print('Foi encontrado divergência(s) de acordo com as informações passadas nos dados que impoêm um contrato.')\n",
        "                    print('Os contratos do fornecedor {forn} possui um valor total de R$ {con}, ele tem obrigatoriamente do valor menor ou igual aos valores dos contratos.\\n\\n'.format(forn=v[0],con=v[1]))\n",
        "                    print('O fornecedor possui os seguintes registros por período:')\n",
        "                    print('Fornecedor: {forn} , Mês Início: {minic} , Mês Final: {mfin} , Valor: R$ {val}\\n\\n'.format(forn=fornecedor_linha, minic=mes_inicial_linha, mfin=mes_final_linha, val=valor_total_linha))\n",
        "\n",
        "# Retorna o contrato individual, referente ao período completo de n meses, que possui o menor valor\n",
        "def verifica_menor_contrato_periodo(dados):\n",
        "\n",
        "    # Variáveis usadas para localização da regra\n",
        "    lista_ordenada = sorted(dados, key=itemgetter(3))\n",
        "    index = 0\n",
        "\n",
        "    print('\\nPeríodo completo de n meses, que possui o menor valor.')\n",
        "\n",
        "    while (float(lista_ordenada[0][3]) == float(lista_ordenada[index][3])):\n",
        "        print('O contrato de menor valor dos dados é: ' + str(lista_ordenada[index]) + '\\n')\n",
        "        index += 1\n",
        "\n",
        "# Retorna o contrato individual de menor valor do mercado, independente do período a que se refere\n",
        "def verifica_menor_contrato(dados):\n",
        "\n",
        "    # Variáveis usadas para localização da regra\n",
        "    lista_ordenada = sorted(dados, key=itemgetter(3))\n",
        "    index = 0\n",
        "\n",
        "    print('\\nContrato individual de menor valor do mercado, independente do período a que se refere.')\n",
        "\n",
        "    while (float(lista_ordenada[0][3]) == float(lista_ordenada[index][3])):\n",
        "        print('O contrato de menor valor dos dados é: ' + str(lista_ordenada[index]) + '\\n')\n",
        "        index += 1\n",
        "\n",
        "#  Retorna o contrato individual, referente ao período completo de x meses (passado como parâmetro, x ≤ n), que possui o menor valor\n",
        "def verifica_menor_contrato_meses(dados):\n",
        "\n",
        "    # Variáveis usadas para localização da regra\n",
        "    lista_ordenada = sorted(dados, key=itemgetter(3))\n",
        "    index = 0\n",
        "\n",
        "    print('\\nContrato individual de menor valor do mercado, independente do período a que se refere.')\n",
        "\n",
        "    while (float(lista_ordenada[0][3]) == float(lista_ordenada[index][3])):\n",
        "\n",
        "        print('O contrato de menor valor dos dados é: ' + str(lista_ordenada[index]) + '\\n')\n",
        "        index += 1\n",
        "\n",
        "# Função que valida todas as formas de contratos\n",
        "def valida_contratos(dados):\n",
        "\n",
        "    # Informações das regras para os contratos\n",
        "    dados_contrato_total_meses = int(dados[0][0])\n",
        "    dados_contrato_total_fornecedor = int(dados[0][1])\n",
        "    dados_contrato_total_valor = float(dados[0][2])\n",
        "\n",
        "    dados_contrato_menor_valor_mensal = []\n",
        "    dados_contrato_menor_valor_individual = []\n",
        "\n",
        "    del dados[0]\n",
        "\n",
        "    # Percorro todos os dados e realiza todas as validações do Item A\n",
        "    for l in dados:\n",
        "\n",
        "        # Informações dos contratos realizados\n",
        "        fornecedor = int(l[0])\n",
        "        mes_inicial = int(l[1])\n",
        "        mes_final = int(l[2])\n",
        "        valor_total = float(l[3])\n",
        "\n",
        "        # Valida dados de todos os contratos caso haja alguma divergência nos dados\n",
        "        if ((mes_inicial < 1) or (mes_inicial > dados_contrato_total_meses) or (mes_final > dados_contrato_total_meses) or (fornecedor > dados_contrato_total_meses)):\n",
        "\n",
        "            print('Foi encontrado divergência(s) de acordo com as informações passadas nos dados que impoêm um contrato.')\n",
        "            print('As regras dos contratos são esses:\\n')\n",
        "            print('Quantidade de Fornecedores: {forn} , Total de Meses do Contrato: {mtotal} meses , Valor do Contrato: R$ {val}\\n\\n' .format(forn=dados_contrato_total_fornecedor, mtotal=dados_contrato_total_meses, val=dados_contrato_total_valor))\n",
        "            print('Foi encontrado problemas nas seguintes linhas abaixo:')\n",
        "            print('Fornecedor: {forn} , Mês Início: {minic} , Mês Final: {mfin} , Valor: R$ {val}\\n\\n' .format(forn=fornecedor, minic=mes_inicial, mfin=mes_final, val=valor_total))\n",
        "\n",
        "        # Localiza valor do contrato de uma mês todo\n",
        "        elif (mes_inicial == 1 and mes_final == dados_contrato_total_meses):\n",
        "\n",
        "            # Valida todos os contratos de acordo com valor total do período\n",
        "            valida_valor_contratos(dados, fornecedor, valor_total)\n",
        "\n",
        "            # Cria lista dos contratos por período x meses\n",
        "            dados_contrato_menor_valor_mensal.append(l)\n",
        "\n",
        "        else:\n",
        "            dados_contrato_menor_valor_individual.append(l)\n",
        "\n",
        "    # Chama função para relizar validação so somatório de todos os contratos\n",
        "    valida_somatorio_valor_contratos(dados, dados_contrato_total_meses)\n",
        "\n",
        "    # Chama função que retorna o contrato individual, referente ao período completo de n meses, que possui o menor valor\n",
        "    verifica_menor_contrato_periodo(dados_contrato_menor_valor_mensal)\n",
        "\n",
        "    # Chama função que retorna o contrato individual de menor valor do mercado, independente do período a que se refere\n",
        "    verifica_menor_contrato(dados)\n",
        "\n",
        "    # Chama função que retorna o contrato individual, referente ao período completo de x meses (passado como parâmetro, x ≤ n), que possui o menor valor\n",
        "    verifica_menor_contrato_meses(dados_contrato_menor_valor_individual)\n",
        "\n",
        "\n",
        "# Declaro listas para manipulação dos dados\n",
        "texto = []\n",
        "matriz = []\n",
        "\n",
        "# Quebra as linhas do arquivo em vetores\n",
        "texto = arquivo.readlines()\n",
        "\n",
        "# print(\"vetor texto -> \",texto) # Exibe em texto\n",
        "# print(\"\")\n",
        "\n",
        "# Esse for percorre a posições dp vetor texto\n",
        "for i in range(len(texto)):\n",
        "    matriz.append(texto[i].split())  # Aqui eu quebro nos espaços das palavras\n",
        "\n",
        "# Mostra o vetor com um conjunto de vetores\n",
        "# print(\"vetor matriz -> \", matriz)\n",
        "\n",
        "# Mostra quedrando em linhas\n",
        "# for i in range(len(texto)):\n",
        "#     print(matriz[i])\n",
        "\n",
        "valida_contratos(matriz)\n",
        "\n",
        "# Comando para fechar o arquivo\n",
        "arquivo.close()\n",
        "\n",
        "\n",
        "\n",
        "\n",
        "\n",
        "\n"
      ],
      "execution_count": 35,
      "outputs": [
        {
          "output_type": "stream",
          "text": [
            "\n",
            "Período completo de n meses, que possui o menor valor.\n",
            "O contrato de menor valor dos dados é: ['61', '1', '120', '687.1']\n",
            "\n",
            "\n",
            "Contrato individual de menor valor do mercado, independente do período a que se refere.\n",
            "O contrato de menor valor dos dados é: ['8', '53', '53', '10.0']\n",
            "\n",
            "O contrato de menor valor dos dados é: ['8', '100', '100', '10.0']\n",
            "\n",
            "O contrato de menor valor dos dados é: ['9', '24', '24', '10.0']\n",
            "\n",
            "O contrato de menor valor dos dados é: ['9', '30', '30', '10.0']\n",
            "\n",
            "O contrato de menor valor dos dados é: ['11', '70', '70', '10.0']\n",
            "\n",
            "O contrato de menor valor dos dados é: ['11', '110', '110', '10.0']\n",
            "\n",
            "O contrato de menor valor dos dados é: ['12', '111', '111', '10.0']\n",
            "\n",
            "O contrato de menor valor dos dados é: ['14', '27', '27', '10.0']\n",
            "\n",
            "O contrato de menor valor dos dados é: ['15', '51', '51', '10.0']\n",
            "\n",
            "O contrato de menor valor dos dados é: ['15', '74', '74', '10.0']\n",
            "\n",
            "O contrato de menor valor dos dados é: ['15', '75', '75', '10.0']\n",
            "\n",
            "O contrato de menor valor dos dados é: ['16', '68', '68', '10.0']\n",
            "\n",
            "O contrato de menor valor dos dados é: ['18', '15', '15', '10.0']\n",
            "\n",
            "O contrato de menor valor dos dados é: ['19', '19', '19', '10.0']\n",
            "\n",
            "O contrato de menor valor dos dados é: ['22', '21', '21', '10.0']\n",
            "\n",
            "O contrato de menor valor dos dados é: ['22', '28', '28', '10.0']\n",
            "\n",
            "O contrato de menor valor dos dados é: ['22', '67', '67', '10.0']\n",
            "\n",
            "O contrato de menor valor dos dados é: ['26', '81', '81', '10.0']\n",
            "\n",
            "O contrato de menor valor dos dados é: ['28', '20', '20', '10.0']\n",
            "\n",
            "O contrato de menor valor dos dados é: ['29', '101', '101', '10.0']\n",
            "\n",
            "O contrato de menor valor dos dados é: ['29', '116', '116', '10.0']\n",
            "\n",
            "O contrato de menor valor dos dados é: ['30', '76', '76', '10.0']\n",
            "\n",
            "O contrato de menor valor dos dados é: ['32', '8', '8', '10.0']\n",
            "\n",
            "O contrato de menor valor dos dados é: ['39', '26', '26', '10.0']\n",
            "\n",
            "O contrato de menor valor dos dados é: ['39', '36', '36', '10.0']\n",
            "\n",
            "O contrato de menor valor dos dados é: ['40', '59', '59', '10.0']\n",
            "\n",
            "O contrato de menor valor dos dados é: ['41', '93', '93', '10.0']\n",
            "\n",
            "O contrato de menor valor dos dados é: ['42', '61', '61', '10.0']\n",
            "\n",
            "O contrato de menor valor dos dados é: ['43', '86', '86', '10.0']\n",
            "\n",
            "O contrato de menor valor dos dados é: ['45', '64', '64', '10.0']\n",
            "\n",
            "O contrato de menor valor dos dados é: ['50', '113', '113', '10.0']\n",
            "\n",
            "O contrato de menor valor dos dados é: ['52', '23', '23', '10.0']\n",
            "\n",
            "O contrato de menor valor dos dados é: ['55', '31', '31', '10.0']\n",
            "\n",
            "O contrato de menor valor dos dados é: ['59', '78', '78', '10.0']\n",
            "\n",
            "O contrato de menor valor dos dados é: ['59', '111', '111', '10.0']\n",
            "\n",
            "O contrato de menor valor dos dados é: ['60', '88', '88', '10.0']\n",
            "\n",
            "O contrato de menor valor dos dados é: ['60', '107', '107', '10.0']\n",
            "\n",
            "O contrato de menor valor dos dados é: ['63', '112', '112', '10.0']\n",
            "\n",
            "O contrato de menor valor dos dados é: ['64', '14', '14', '10.0']\n",
            "\n",
            "O contrato de menor valor dos dados é: ['64', '19', '19', '10.0']\n",
            "\n",
            "O contrato de menor valor dos dados é: ['67', '30', '30', '10.0']\n",
            "\n",
            "O contrato de menor valor dos dados é: ['73', '9', '9', '10.0']\n",
            "\n",
            "O contrato de menor valor dos dados é: ['81', '6', '6', '10.0']\n",
            "\n",
            "O contrato de menor valor dos dados é: ['82', '63', '63', '10.0']\n",
            "\n",
            "O contrato de menor valor dos dados é: ['89', '24', '24', '10.0']\n",
            "\n",
            "O contrato de menor valor dos dados é: ['93', '99', '99', '10.0']\n",
            "\n",
            "O contrato de menor valor dos dados é: ['94', '24', '24', '10.0']\n",
            "\n",
            "O contrato de menor valor dos dados é: ['96', '4', '4', '10.0']\n",
            "\n",
            "O contrato de menor valor dos dados é: ['97', '118', '118', '10.0']\n",
            "\n",
            "O contrato de menor valor dos dados é: ['99', '82', '82', '10.0']\n",
            "\n",
            "\n",
            "Contrato individual de menor valor do mercado, independente do período a que se refere.\n",
            "O contrato de menor valor dos dados é: ['8', '53', '53', '10.0']\n",
            "\n",
            "O contrato de menor valor dos dados é: ['8', '100', '100', '10.0']\n",
            "\n",
            "O contrato de menor valor dos dados é: ['9', '24', '24', '10.0']\n",
            "\n",
            "O contrato de menor valor dos dados é: ['9', '30', '30', '10.0']\n",
            "\n",
            "O contrato de menor valor dos dados é: ['11', '70', '70', '10.0']\n",
            "\n",
            "O contrato de menor valor dos dados é: ['11', '110', '110', '10.0']\n",
            "\n",
            "O contrato de menor valor dos dados é: ['12', '111', '111', '10.0']\n",
            "\n",
            "O contrato de menor valor dos dados é: ['14', '27', '27', '10.0']\n",
            "\n",
            "O contrato de menor valor dos dados é: ['15', '51', '51', '10.0']\n",
            "\n",
            "O contrato de menor valor dos dados é: ['15', '74', '74', '10.0']\n",
            "\n",
            "O contrato de menor valor dos dados é: ['15', '75', '75', '10.0']\n",
            "\n",
            "O contrato de menor valor dos dados é: ['16', '68', '68', '10.0']\n",
            "\n",
            "O contrato de menor valor dos dados é: ['18', '15', '15', '10.0']\n",
            "\n",
            "O contrato de menor valor dos dados é: ['19', '19', '19', '10.0']\n",
            "\n",
            "O contrato de menor valor dos dados é: ['22', '21', '21', '10.0']\n",
            "\n",
            "O contrato de menor valor dos dados é: ['22', '28', '28', '10.0']\n",
            "\n",
            "O contrato de menor valor dos dados é: ['22', '67', '67', '10.0']\n",
            "\n",
            "O contrato de menor valor dos dados é: ['26', '81', '81', '10.0']\n",
            "\n",
            "O contrato de menor valor dos dados é: ['28', '20', '20', '10.0']\n",
            "\n",
            "O contrato de menor valor dos dados é: ['29', '101', '101', '10.0']\n",
            "\n",
            "O contrato de menor valor dos dados é: ['29', '116', '116', '10.0']\n",
            "\n",
            "O contrato de menor valor dos dados é: ['30', '76', '76', '10.0']\n",
            "\n",
            "O contrato de menor valor dos dados é: ['32', '8', '8', '10.0']\n",
            "\n",
            "O contrato de menor valor dos dados é: ['39', '26', '26', '10.0']\n",
            "\n",
            "O contrato de menor valor dos dados é: ['39', '36', '36', '10.0']\n",
            "\n",
            "O contrato de menor valor dos dados é: ['40', '59', '59', '10.0']\n",
            "\n",
            "O contrato de menor valor dos dados é: ['41', '93', '93', '10.0']\n",
            "\n",
            "O contrato de menor valor dos dados é: ['42', '61', '61', '10.0']\n",
            "\n",
            "O contrato de menor valor dos dados é: ['43', '86', '86', '10.0']\n",
            "\n",
            "O contrato de menor valor dos dados é: ['45', '64', '64', '10.0']\n",
            "\n",
            "O contrato de menor valor dos dados é: ['50', '113', '113', '10.0']\n",
            "\n",
            "O contrato de menor valor dos dados é: ['52', '23', '23', '10.0']\n",
            "\n",
            "O contrato de menor valor dos dados é: ['55', '31', '31', '10.0']\n",
            "\n",
            "O contrato de menor valor dos dados é: ['59', '78', '78', '10.0']\n",
            "\n",
            "O contrato de menor valor dos dados é: ['59', '111', '111', '10.0']\n",
            "\n",
            "O contrato de menor valor dos dados é: ['60', '88', '88', '10.0']\n",
            "\n",
            "O contrato de menor valor dos dados é: ['60', '107', '107', '10.0']\n",
            "\n",
            "O contrato de menor valor dos dados é: ['63', '112', '112', '10.0']\n",
            "\n",
            "O contrato de menor valor dos dados é: ['64', '14', '14', '10.0']\n",
            "\n",
            "O contrato de menor valor dos dados é: ['64', '19', '19', '10.0']\n",
            "\n",
            "O contrato de menor valor dos dados é: ['67', '30', '30', '10.0']\n",
            "\n",
            "O contrato de menor valor dos dados é: ['73', '9', '9', '10.0']\n",
            "\n",
            "O contrato de menor valor dos dados é: ['81', '6', '6', '10.0']\n",
            "\n",
            "O contrato de menor valor dos dados é: ['82', '63', '63', '10.0']\n",
            "\n",
            "O contrato de menor valor dos dados é: ['89', '24', '24', '10.0']\n",
            "\n",
            "O contrato de menor valor dos dados é: ['93', '99', '99', '10.0']\n",
            "\n",
            "O contrato de menor valor dos dados é: ['94', '24', '24', '10.0']\n",
            "\n",
            "O contrato de menor valor dos dados é: ['96', '4', '4', '10.0']\n",
            "\n",
            "O contrato de menor valor dos dados é: ['97', '118', '118', '10.0']\n",
            "\n",
            "O contrato de menor valor dos dados é: ['99', '82', '82', '10.0']\n",
            "\n"
          ],
          "name": "stdout"
        }
      ]
    }
  ]
}